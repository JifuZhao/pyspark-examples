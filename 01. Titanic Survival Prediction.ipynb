{
 "cells": [
  {
   "cell_type": "markdown",
   "metadata": {},
   "source": [
    "# Sample Analysis on [Titanic Survival Analysis](https://www.kaggle.com/c/titanic)"
   ]
  },
  {
   "cell_type": "code",
   "execution_count": 1,
   "metadata": {},
   "outputs": [],
   "source": [
    "import numpy as np\n",
    "import pandas as pd\n",
    "import matplotlib.pyplot as plt\n",
    "import re\n",
    "\n",
    "from pyspark.sql import SparkSession\n",
    "from pyspark.sql.types import *\n",
    "import pyspark.sql.functions as F\n",
    "from pyspark.ml import Pipeline\n",
    "from pyspark.ml.feature import OneHotEncoderEstimator, StringIndexer, VectorAssembler\n",
    "from pyspark.ml.classification import LogisticRegression, DecisionTreeClassifier\n",
    "from pyspark.ml.classification import GBTClassifier, RandomForestClassifier\n",
    "from pyspark.ml.evaluation import BinaryClassificationEvaluator\n",
    "\n",
    "%matplotlib inline"
   ]
  },
  {
   "cell_type": "code",
   "execution_count": 2,
   "metadata": {},
   "outputs": [
    {
     "data": {
      "text/html": [
       "\n",
       "        <div>\n",
       "            <p><b>SparkSession - hive</b></p>\n",
       "            \n",
       "        <div>\n",
       "            <p><b>SparkContext</b></p>\n",
       "            <p><a href=\"https://polarisgq-jt1.gq.vcg.yahoo.com:50505/proxy/application_1557955941593_2254798\" target=\"_blank\">Spark UI</a></p>\n",
       "            <dl>\n",
       "              <dt>Spark Version</dt>\n",
       "                <dd><code>v2.4.1.20</code></dd>\n",
       "              <dt>Python Version</dt>\n",
       "                <dd><code>v3.6</code></dd>\n",
       "              <dt>AppName</dt>\n",
       "                <dd><code>jup-01. Titanic Survival Prediction</code></dd>\n",
       "              <dt>AppID</dt>\n",
       "                <dd><code>application_1557955941593_2254798</code></dd>\n",
       "            </dl>\n",
       "        </div>\n",
       "    \n",
       "        </div>\n",
       "    "
      ],
      "text/plain": [
       "<pyspark.sql.session.SparkSession at 0x7f74c5c75860>"
      ]
     },
     "execution_count": 2,
     "metadata": {},
     "output_type": "execute_result"
    }
   ],
   "source": [
    "spark = SparkSession.builder \\\n",
    "        .appName('Titanic_Survival_Prediction') \\\n",
    "        .getOrCreate()\n",
    "        \n",
    "spark"
   ]
  },
  {
   "cell_type": "markdown",
   "metadata": {},
   "source": [
    "# Load Titanic Dataset"
   ]
  },
  {
   "cell_type": "code",
   "execution_count": 3,
   "metadata": {},
   "outputs": [
    {
     "name": "stdout",
     "output_type": "stream",
     "text": [
      "+-----------+--------+------+--------------------+------+----+-----+-----+----------------+-------+-----+--------+\n",
      "|PassengerId|Survived|Pclass|                Name|   Sex| Age|SibSp|Parch|          Ticket|   Fare|Cabin|Embarked|\n",
      "+-----------+--------+------+--------------------+------+----+-----+-----+----------------+-------+-----+--------+\n",
      "|          1|       0|     3|Braund, Mr. Owen ...|  male|22.0|    1|    0|       A/5 21171|   7.25| null|       S|\n",
      "|          2|       1|     1|Cumings, Mrs. Joh...|female|38.0|    1|    0|        PC 17599|71.2833|  C85|       C|\n",
      "|          3|       1|     3|Heikkinen, Miss. ...|female|26.0|    0|    0|STON/O2. 3101282|  7.925| null|       S|\n",
      "|          4|       1|     1|Futrelle, Mrs. Ja...|female|35.0|    1|    0|          113803|   53.1| C123|       S|\n",
      "|          5|       0|     3|Allen, Mr. Willia...|  male|35.0|    0|    0|          373450|   8.05| null|       S|\n",
      "+-----------+--------+------+--------------------+------+----+-----+-----+----------------+-------+-----+--------+\n",
      "only showing top 5 rows\n",
      "\n"
     ]
    }
   ],
   "source": [
    "data = spark.read.csv('./pyspark-examples/data/titanic.csv', header=True, inferSchema=True, sep=',').cache()\n",
    "data.show(n=5)"
   ]
  },
  {
   "cell_type": "code",
   "execution_count": 4,
   "metadata": {},
   "outputs": [
    {
     "name": "stdout",
     "output_type": "stream",
     "text": [
      "root\n",
      " |-- PassengerId: integer (nullable = true)\n",
      " |-- Survived: integer (nullable = true)\n",
      " |-- Pclass: integer (nullable = true)\n",
      " |-- Name: string (nullable = true)\n",
      " |-- Sex: string (nullable = true)\n",
      " |-- Age: double (nullable = true)\n",
      " |-- SibSp: integer (nullable = true)\n",
      " |-- Parch: integer (nullable = true)\n",
      " |-- Ticket: string (nullable = true)\n",
      " |-- Fare: double (nullable = true)\n",
      " |-- Cabin: string (nullable = true)\n",
      " |-- Embarked: string (nullable = true)\n",
      "\n"
     ]
    }
   ],
   "source": [
    "data.printSchema()"
   ]
  },
  {
   "cell_type": "code",
   "execution_count": 5,
   "metadata": {},
   "outputs": [
    {
     "name": "stdout",
     "output_type": "stream",
     "text": [
      "+------+--------------------+------+----+-----+-----+-------+-----+--------+--------+\n",
      "|Pclass|                Name|   Sex| Age|SibSp|Parch|   Fare|Cabin|Embarked|Survived|\n",
      "+------+--------------------+------+----+-----+-----+-------+-----+--------+--------+\n",
      "|     3|Braund, Mr. Owen ...|  male|22.0|    1|    0|   7.25| null|       S|       0|\n",
      "|     1|Cumings, Mrs. Joh...|female|38.0|    1|    0|71.2833|  C85|       C|       1|\n",
      "|     3|Heikkinen, Miss. ...|female|26.0|    0|    0|  7.925| null|       S|       1|\n",
      "|     1|Futrelle, Mrs. Ja...|female|35.0|    1|    0|   53.1| C123|       S|       1|\n",
      "|     3|Allen, Mr. Willia...|  male|35.0|    0|    0|   8.05| null|       S|       0|\n",
      "+------+--------------------+------+----+-----+-----+-------+-----+--------+--------+\n",
      "only showing top 5 rows\n",
      "\n"
     ]
    }
   ],
   "source": [
    "used_cols = ['Pclass', 'Name', 'Sex', 'Age', 'SibSp', 'Parch', 'Fare', 'Cabin', 'Embarked', 'Survived']\n",
    "data = data.select(*used_cols).cache()\n",
    "data.show(n=5)"
   ]
  },
  {
   "cell_type": "code",
   "execution_count": 6,
   "metadata": {},
   "outputs": [
    {
     "name": "stdout",
     "output_type": "stream",
     "text": [
      "+-------+------------------+------------------+------------------+-------------------+-----------------+\n",
      "|summary|            Pclass|               Age|             SibSp|              Parch|             Fare|\n",
      "+-------+------------------+------------------+------------------+-------------------+-----------------+\n",
      "|  count|               891|               714|               891|                891|              891|\n",
      "|   mean| 2.308641975308642| 29.69911764705882|0.5230078563411896|0.38159371492704824| 32.2042079685746|\n",
      "| stddev|0.8360712409770491|14.526497332334035|1.1027434322934315| 0.8060572211299488|49.69342859718089|\n",
      "|    min|                 1|              0.42|                 0|                  0|              0.0|\n",
      "|    max|                 3|              80.0|                 8|                  6|         512.3292|\n",
      "+-------+------------------+------------------+------------------+-------------------+-----------------+\n",
      "\n"
     ]
    }
   ],
   "source": [
    "# describe\n",
    "data.select('Pclass', 'Age', 'SibSp', 'Parch', 'Fare').describe().show()"
   ]
  },
  {
   "cell_type": "code",
   "execution_count": 7,
   "metadata": {},
   "outputs": [
    {
     "data": {
      "text/plain": [
       "891"
      ]
     },
     "execution_count": 7,
     "metadata": {},
     "output_type": "execute_result"
    }
   ],
   "source": [
    "# total count\n",
    "data.count()"
   ]
  },
  {
   "cell_type": "code",
   "execution_count": 8,
   "metadata": {},
   "outputs": [
    {
     "name": "stdout",
     "output_type": "stream",
     "text": [
      "+--------+-----+\n",
      "|Survived|count|\n",
      "+--------+-----+\n",
      "|       1|  342|\n",
      "|       0|  549|\n",
      "+--------+-----+\n",
      "\n"
     ]
    }
   ],
   "source": [
    "# count for each class\n",
    "data.groupBy('Survived').count().show()"
   ]
  },
  {
   "cell_type": "code",
   "execution_count": 9,
   "metadata": {},
   "outputs": [
    {
     "name": "stdout",
     "output_type": "stream",
     "text": [
      "+--------+-----------+--------------------+\n",
      "|  column|miss counts|          miss ratio|\n",
      "+--------+-----------+--------------------+\n",
      "|  Pclass|          0|                 0.0|\n",
      "|    Name|          0|                 0.0|\n",
      "|     Sex|          0|                 0.0|\n",
      "|     Age|        177| 0.19865319865319866|\n",
      "|   SibSp|          0|                 0.0|\n",
      "|   Parch|          0|                 0.0|\n",
      "|    Fare|          0|                 0.0|\n",
      "|   Cabin|        687|  0.7710437710437711|\n",
      "|Embarked|          2|0.002244668911335578|\n",
      "|Survived|          0|                 0.0|\n",
      "+--------+-----------+--------------------+\n",
      "\n"
     ]
    }
   ],
   "source": [
    "# another way to check missing values\n",
    "def count_missing(df):\n",
    "    miss_counts = []\n",
    "    total_cnt = df.count()\n",
    "    for name in df.columns:\n",
    "        cnt = df.filter(df[name].isNull()).count()\n",
    "        miss_counts.append((name, cnt, cnt / total_cnt))\n",
    "        \n",
    "    return miss_counts\n",
    "\n",
    "missing_counts = count_missing(data)\n",
    "spark.createDataFrame(missing_counts, ['column', 'miss counts', 'miss ratio']).show()"
   ]
  },
  {
   "cell_type": "code",
   "execution_count": 10,
   "metadata": {},
   "outputs": [
    {
     "name": "stdout",
     "output_type": "stream",
     "text": [
      "+------+----+---+---+-----+-----+----+-----+--------+--------+\n",
      "|Pclass|Name|Sex|Age|SibSp|Parch|Fare|Cabin|Embarked|Survived|\n",
      "+------+----+---+---+-----+-----+----+-----+--------+--------+\n",
      "|     0|   0|  0|177|    0|    0|   0|  687|       2|       0|\n",
      "+------+----+---+---+-----+-----+----+-----+--------+--------+\n",
      "\n"
     ]
    }
   ],
   "source": [
    "# check missing values\n",
    "data.agg(*[(891 - F.count(c)).alias(c) for c in data.columns]).show()"
   ]
  },
  {
   "cell_type": "code",
   "execution_count": 11,
   "metadata": {},
   "outputs": [
    {
     "name": "stdout",
     "output_type": "stream",
     "text": [
      "+------+----+---+---+-----+-----+----+-----+--------+--------+\n",
      "|Pclass|Name|Sex|Age|SibSp|Parch|Fare|Cabin|Embarked|Survived|\n",
      "+------+----+---+---+-----+-----+----+-----+--------+--------+\n",
      "|     3| 891|  2| 88|    7|    7| 248|  147|       3|       2|\n",
      "+------+----+---+---+-----+-----+----+-----+--------+--------+\n",
      "\n"
     ]
    }
   ],
   "source": [
    "# check distinct values\n",
    "data.agg(*[F.countDistinct(c).alias(c) for c in data.columns]).show()"
   ]
  },
  {
   "cell_type": "code",
   "execution_count": 12,
   "metadata": {},
   "outputs": [
    {
     "name": "stdout",
     "output_type": "stream",
     "text": [
      "Pclass \t [1, 3, 2]\n",
      "Sex \t ['female', 'male']\n",
      "SibSp \t [1, 3, 5, 4, 8, 2, 0]\n",
      "Parch \t [1, 6, 3, 5, 4, 2, 0]\n",
      "Cabin \t ['A23', 'B79', 'E44', 'F E69', 'D28', 'C78', 'C95', 'F G73', 'B58 B60', 'D7', 'C128', 'B39', 'B22', 'C110', 'D21', 'F2', 'B30', 'C104', 'B50', 'A6', 'E31', 'C90', 'D45', 'C45', 'C65', 'C22 C26', 'A19', 'B51 B53 B55', 'E33', 'A16', 'B4', 'B96 B98', 'E10', 'C82', 'D20', 'E77', 'B38', 'E8', 'A32', 'C87', 'B20', 'E50', 'B80', 'D48', 'E49', None, 'T', 'A36', 'C123', 'D37', 'C83', 'C62 C64', 'C103', 'D35', 'C111', 'F G63', 'C126', 'D15', 'B18', 'C54', 'E121', 'D46', 'B19', 'C68', 'C50', 'C93', 'E36', 'D', 'E46', 'C124', 'C30', 'E101', 'A26', 'G6', 'C85', 'B3', 'D47', 'B28', 'B71', 'A31', 'E67', 'C148', 'A10', 'D30', 'D19', 'B37', 'E25', 'C86', 'A20', 'E40', 'D17', 'C52', 'C91', 'B77', 'B86', 'D33', 'B94', 'D10 D12', 'D49', 'C23 C25 C27', 'D9', 'F4', 'B102', 'F33', 'B5', 'E24', 'E63', 'A14', 'A24', 'C92', 'A7', 'D36', 'C46', 'E34', 'E12', 'D50', 'B101', 'C99', 'E38', 'C47', 'D26', 'C125', 'F38', 'A5', 'C32', 'C2', 'B73', 'C7', 'B57 B59 B63 B66', 'B69', 'E17', 'B35', 'B49', 'D11', 'D6', 'C70', 'C106', 'C101', 'B78', 'C118', 'C49', 'E68', 'D56', 'E58', 'B42', 'A34', 'B82 B84', 'B41']\n",
      "Embarked \t ['Q', None, 'C', 'S']\n"
     ]
    }
   ],
   "source": [
    "# check unique values\n",
    "for name in ['Pclass', 'Sex', 'SibSp', 'Parch', 'Cabin', 'Embarked']:\n",
    "    unique_values = data.select(name).distinct().collect()\n",
    "    tmp = []\n",
    "    for val in unique_values:\n",
    "        tmp.append(val[0])\n",
    "    print(name, '\\t', tmp)"
   ]
  },
  {
   "cell_type": "code",
   "execution_count": 13,
   "metadata": {},
   "outputs": [
    {
     "name": "stdout",
     "output_type": "stream",
     "text": [
      "+--------+-----+\n",
      "|Embarked|count|\n",
      "+--------+-----+\n",
      "|       Q|   77|\n",
      "|    null|    2|\n",
      "|       C|  168|\n",
      "|       S|  644|\n",
      "+--------+-----+\n",
      "\n"
     ]
    }
   ],
   "source": [
    "# check feature 'Embarked'\n",
    "data.groupby('Embarked').count().show()"
   ]
  },
  {
   "cell_type": "markdown",
   "metadata": {},
   "source": [
    "# Feature Engineering"
   ]
  },
  {
   "cell_type": "code",
   "execution_count": 14,
   "metadata": {},
   "outputs": [
    {
     "name": "stdout",
     "output_type": "stream",
     "text": [
      "+------+--------------------+------+----+-----+-----+-------+-----+--------+--------+\n",
      "|Pclass|                Name|   Sex| Age|SibSp|Parch|   Fare|Cabin|Embarked|Survived|\n",
      "+------+--------------------+------+----+-----+-----+-------+-----+--------+--------+\n",
      "|     3|Braund, Mr. Owen ...|  male|22.0|    1|    0|   7.25| null|       S|       0|\n",
      "|     1|Cumings, Mrs. Joh...|female|38.0|    1|    0|71.2833|  C85|       C|       1|\n",
      "|     3|Heikkinen, Miss. ...|female|26.0|    0|    0|  7.925| null|       S|       1|\n",
      "|     1|Futrelle, Mrs. Ja...|female|35.0|    1|    0|   53.1| C123|       S|       1|\n",
      "|     3|Allen, Mr. Willia...|  male|35.0|    0|    0|   8.05| null|       S|       0|\n",
      "+------+--------------------+------+----+-----+-----+-------+-----+--------+--------+\n",
      "only showing top 5 rows\n",
      "\n"
     ]
    }
   ],
   "source": [
    "data.show(5)"
   ]
  },
  {
   "cell_type": "markdown",
   "metadata": {},
   "source": [
    "### Impute Missing Values for 'Age' and 'Embarked'"
   ]
  },
  {
   "cell_type": "code",
   "execution_count": 15,
   "metadata": {},
   "outputs": [
    {
     "name": "stdout",
     "output_type": "stream",
     "text": [
      "+------+--------------------+------+----+-----+-----+-------+-----+--------+--------+-----+\n",
      "|Pclass|                Name|   Sex| Age|SibSp|Parch|   Fare|Cabin|Embarked|Survived|Title|\n",
      "+------+--------------------+------+----+-----+-----+-------+-----+--------+--------+-----+\n",
      "|     3|Braund, Mr. Owen ...|  male|22.0|    1|    0|   7.25| null|       S|       0|   Mr|\n",
      "|     1|Cumings, Mrs. Joh...|female|38.0|    1|    0|71.2833|  C85|       C|       1|  Mrs|\n",
      "|     3|Heikkinen, Miss. ...|female|26.0|    0|    0|  7.925| null|       S|       1| Miss|\n",
      "|     1|Futrelle, Mrs. Ja...|female|35.0|    1|    0|   53.1| C123|       S|       1|  Mrs|\n",
      "|     3|Allen, Mr. Willia...|  male|35.0|    0|    0|   8.05| null|       S|       0|   Mr|\n",
      "+------+--------------------+------+----+-----+-----+-------+-----+--------+--------+-----+\n",
      "only showing top 5 rows\n",
      "\n"
     ]
    }
   ],
   "source": [
    "# for feature 'Name', it's useful to extract the title\n",
    "data = data.withColumn('Title', F.regexp_extract(data['Name'], '([A-Za-z]+)\\.', 1))\n",
    "data.show(5)"
   ]
  },
  {
   "cell_type": "code",
   "execution_count": 16,
   "metadata": {},
   "outputs": [
    {
     "name": "stdout",
     "output_type": "stream",
     "text": [
      "+--------+-----+\n",
      "|   Title|count|\n",
      "+--------+-----+\n",
      "|     Don|    1|\n",
      "|    Miss|  182|\n",
      "|Countess|    1|\n",
      "|     Col|    2|\n",
      "|     Rev|    6|\n",
      "|    Lady|    1|\n",
      "|  Master|   40|\n",
      "|     Mme|    1|\n",
      "|    Capt|    1|\n",
      "|      Mr|  517|\n",
      "|      Dr|    7|\n",
      "|     Mrs|  125|\n",
      "|     Sir|    1|\n",
      "|Jonkheer|    1|\n",
      "|    Mlle|    2|\n",
      "|   Major|    2|\n",
      "|      Ms|    1|\n",
      "+--------+-----+\n",
      "\n"
     ]
    }
   ],
   "source": [
    "data.groupby('Title').count().show()"
   ]
  },
  {
   "cell_type": "code",
   "execution_count": 17,
   "metadata": {},
   "outputs": [
    {
     "name": "stdout",
     "output_type": "stream",
     "text": [
      "+------+--------------------+------+----+-----+-----+-------+-----+--------+--------+-----+\n",
      "|Pclass|                Name|   Sex| Age|SibSp|Parch|   Fare|Cabin|Embarked|Survived|Title|\n",
      "+------+--------------------+------+----+-----+-----+-------+-----+--------+--------+-----+\n",
      "|     3|Braund, Mr. Owen ...|  male|22.0|    1|    0|   7.25| null|       S|       0|   Mr|\n",
      "|     1|Cumings, Mrs. Joh...|female|38.0|    1|    0|71.2833|  C85|       C|       1|  Mrs|\n",
      "|     3|Heikkinen, Miss. ...|female|26.0|    0|    0|  7.925| null|       S|       1| Miss|\n",
      "|     1|Futrelle, Mrs. Ja...|female|35.0|    1|    0|   53.1| C123|       S|       1|  Mrs|\n",
      "|     3|Allen, Mr. Willia...|  male|35.0|    0|    0|   8.05| null|       S|       0|   Mr|\n",
      "+------+--------------------+------+----+-----+-----+-------+-----+--------+--------+-----+\n",
      "only showing top 5 rows\n",
      "\n"
     ]
    }
   ],
   "source": [
    "# replace title\n",
    "original = ['Mlle', 'Mme', 'Ms', 'Dr', 'Major', 'Lady', 'Countess', 'Jonkheer', \n",
    "            'Col', 'Rev', 'Capt', 'Sir', 'Don']\n",
    "to_values = ['Miss', 'Miss', 'Miss', 'Mr', 'Mr', 'Mrs', 'Mrs', 'Other', \n",
    "             'Other', 'Other', 'Mr', 'Mr', 'Mr']\n",
    "data = data.replace(original, to_values, 'Title')\n",
    "data.show(5)"
   ]
  },
  {
   "cell_type": "code",
   "execution_count": 18,
   "metadata": {},
   "outputs": [
    {
     "data": {
      "text/plain": [
       "[Row(Title='Miss', avg(Age)=21.86),\n",
       " Row(Title='Other', avg(Age)=45.888888888888886),\n",
       " Row(Title='Master', avg(Age)=4.574166666666667),\n",
       " Row(Title='Mr', avg(Age)=32.73960880195599),\n",
       " Row(Title='Mrs', avg(Age)=35.981818181818184)]"
      ]
     },
     "execution_count": 18,
     "metadata": {},
     "output_type": "execute_result"
    }
   ],
   "source": [
    "# check age information\n",
    "data.groupby('Title').mean('Age').collect()"
   ]
  },
  {
   "cell_type": "code",
   "execution_count": 19,
   "metadata": {},
   "outputs": [],
   "source": [
    "# replace missing 'Age' with mean values\n",
    "data = data.withColumn('Age', F.when((data['Title'] == 'Miss') & (data['Age'].isNull()), 22).otherwise(data['Age']))\n",
    "data = data.withColumn('Age', F.when((data['Title'] == 'Other') & (data['Age'].isNull()), 46).otherwise(data['Age']))\n",
    "data = data.withColumn('Age', F.when((data['Title'] == 'Master') & (data['Age'].isNull()), 5).otherwise(data['Age']))\n",
    "data = data.withColumn('Age', F.when((data['Title'] == 'Mr') & (data['Age'].isNull()), 33).otherwise(data['Age']))\n",
    "data = data.withColumn('Age', F.when((data['Title'] == 'Mrs') & (data['Age'].isNull()), 36).otherwise(data['Age']))"
   ]
  },
  {
   "cell_type": "code",
   "execution_count": 20,
   "metadata": {},
   "outputs": [],
   "source": [
    "# replace missing 'Embarked' with 'S'\n",
    "data = data.na.fill({'Embarked': 'S'})"
   ]
  },
  {
   "cell_type": "markdown",
   "metadata": {},
   "source": [
    "### Drop Useless Features"
   ]
  },
  {
   "cell_type": "code",
   "execution_count": 21,
   "metadata": {},
   "outputs": [
    {
     "name": "stdout",
     "output_type": "stream",
     "text": [
      "+------+------+----+-----+-----+-------+--------+--------+-----+\n",
      "|Pclass|   Sex| Age|SibSp|Parch|   Fare|Embarked|Survived|Title|\n",
      "+------+------+----+-----+-----+-------+--------+--------+-----+\n",
      "|     3|  male|22.0|    1|    0|   7.25|       S|       0|   Mr|\n",
      "|     1|female|38.0|    1|    0|71.2833|       C|       1|  Mrs|\n",
      "|     3|female|26.0|    0|    0|  7.925|       S|       1| Miss|\n",
      "|     1|female|35.0|    1|    0|   53.1|       S|       1|  Mrs|\n",
      "|     3|  male|35.0|    0|    0|   8.05|       S|       0|   Mr|\n",
      "+------+------+----+-----+-----+-------+--------+--------+-----+\n",
      "only showing top 5 rows\n",
      "\n"
     ]
    }
   ],
   "source": [
    "# drop feature 'Name', 'Cabin'\n",
    "data = data.drop('Name', 'Cabin')\n",
    "data.show(5)"
   ]
  },
  {
   "cell_type": "code",
   "execution_count": 22,
   "metadata": {},
   "outputs": [
    {
     "name": "stdout",
     "output_type": "stream",
     "text": [
      "+--------+-----------+----------+\n",
      "|  column|miss counts|miss ratio|\n",
      "+--------+-----------+----------+\n",
      "|  Pclass|          0|       0.0|\n",
      "|     Sex|          0|       0.0|\n",
      "|     Age|          0|       0.0|\n",
      "|   SibSp|          0|       0.0|\n",
      "|   Parch|          0|       0.0|\n",
      "|    Fare|          0|       0.0|\n",
      "|Embarked|          0|       0.0|\n",
      "|Survived|          0|       0.0|\n",
      "|   Title|          0|       0.0|\n",
      "+--------+-----------+----------+\n",
      "\n"
     ]
    }
   ],
   "source": [
    "# check missing values\n",
    "def count_missing(df):\n",
    "    miss_counts = []\n",
    "    total_cnt = df.count()\n",
    "    for name in df.columns:\n",
    "        cnt = df.filter(df[name].isNull()).count()\n",
    "        miss_counts.append((name, cnt, cnt / total_cnt))\n",
    "        \n",
    "    return miss_counts\n",
    "\n",
    "missing_counts = count_missing(data)\n",
    "spark.createDataFrame(missing_counts, ['column', 'miss counts', 'miss ratio']).show()"
   ]
  },
  {
   "cell_type": "markdown",
   "metadata": {},
   "source": [
    "### New Features for 'Family Size' and Binary 'Alone'"
   ]
  },
  {
   "cell_type": "code",
   "execution_count": 23,
   "metadata": {},
   "outputs": [
    {
     "name": "stdout",
     "output_type": "stream",
     "text": [
      "+------+------+----+-----+-----+-------+--------+--------+-----+------+\n",
      "|Pclass|   Sex| Age|SibSp|Parch|   Fare|Embarked|Survived|Title|Family|\n",
      "+------+------+----+-----+-----+-------+--------+--------+-----+------+\n",
      "|     3|  male|22.0|    1|    0|   7.25|       S|       0|   Mr|     1|\n",
      "|     1|female|38.0|    1|    0|71.2833|       C|       1|  Mrs|     1|\n",
      "|     3|female|26.0|    0|    0|  7.925|       S|       1| Miss|     0|\n",
      "|     1|female|35.0|    1|    0|   53.1|       S|       1|  Mrs|     1|\n",
      "|     3|  male|35.0|    0|    0|   8.05|       S|       0|   Mr|     0|\n",
      "+------+------+----+-----+-----+-------+--------+--------+-----+------+\n",
      "only showing top 5 rows\n",
      "\n"
     ]
    }
   ],
   "source": [
    "# create feature 'Family'\n",
    "data = data.withColumn('Family', data['SibSp'] + data['Parch'])\n",
    "data.show(5)"
   ]
  },
  {
   "cell_type": "code",
   "execution_count": 24,
   "metadata": {},
   "outputs": [
    {
     "name": "stdout",
     "output_type": "stream",
     "text": [
      "+------+------+----+-----+-----+-------+--------+--------+-----+------+-----+\n",
      "|Pclass|   Sex| Age|SibSp|Parch|   Fare|Embarked|Survived|Title|Family|Alone|\n",
      "+------+------+----+-----+-----+-------+--------+--------+-----+------+-----+\n",
      "|     3|  male|22.0|    1|    0|   7.25|       S|       0|   Mr|     1|    0|\n",
      "|     1|female|38.0|    1|    0|71.2833|       C|       1|  Mrs|     1|    0|\n",
      "|     3|female|26.0|    0|    0|  7.925|       S|       1| Miss|     0|    1|\n",
      "|     1|female|35.0|    1|    0|   53.1|       S|       1|  Mrs|     1|    0|\n",
      "|     3|  male|35.0|    0|    0|   8.05|       S|       0|   Mr|     0|    1|\n",
      "+------+------+----+-----+-----+-------+--------+--------+-----+------+-----+\n",
      "only showing top 5 rows\n",
      "\n"
     ]
    }
   ],
   "source": [
    "# create feature 'Alone'\n",
    "data = data.withColumn('Alone', F.lit(0))\n",
    "data = data.withColumn('Alone', F.when(data['Family'] == 0, 1).otherwise(data['Alone']))\n",
    "data.show(5)"
   ]
  },
  {
   "cell_type": "markdown",
   "metadata": {},
   "source": [
    "### Encoding Categorical Features"
   ]
  },
  {
   "cell_type": "code",
   "execution_count": 25,
   "metadata": {},
   "outputs": [],
   "source": [
    "# StringIndexer + OneHotEncoderEstimator\n",
    "stages = []\n",
    "indexer = StringIndexer(inputCol='Sex', outputCol='Sex_index')\n",
    "stages += [indexer]\n",
    "\n",
    "indexer = StringIndexer(inputCol='Embarked', outputCol='Embarked_index')\n",
    "encoder = OneHotEncoderEstimator(inputCols=['Embarked_index'], outputCols=['Embarked_onehot'])\n",
    "stages += [indexer, encoder]\n",
    "\n",
    "indexer = StringIndexer(inputCol='Title', outputCol='Title_index')\n",
    "encoder = OneHotEncoderEstimator(inputCols=['Title_index'], outputCols=['Title_onehot'])\n",
    "stages += [indexer, encoder]"
   ]
  },
  {
   "cell_type": "code",
   "execution_count": 26,
   "metadata": {},
   "outputs": [],
   "source": [
    "# build pipeline\n",
    "pipeline = Pipeline(stages=stages)\n",
    "data = pipeline.fit(data).transform(data)"
   ]
  },
  {
   "cell_type": "code",
   "execution_count": 27,
   "metadata": {},
   "outputs": [
    {
     "name": "stdout",
     "output_type": "stream",
     "text": [
      "+------+----+-----+-----+-------+--------+------+-----+---------+---------------+-------------+\n",
      "|Pclass| Age|SibSp|Parch|   Fare|Survived|Family|Alone|Sex_index|Embarked_onehot| Title_onehot|\n",
      "+------+----+-----+-----+-------+--------+------+-----+---------+---------------+-------------+\n",
      "|     3|22.0|    1|    0|   7.25|       0|     1|    0|      0.0|  (2,[0],[1.0])|(4,[0],[1.0])|\n",
      "|     1|38.0|    1|    0|71.2833|       1|     1|    0|      1.0|  (2,[1],[1.0])|(4,[2],[1.0])|\n",
      "|     3|26.0|    0|    0|  7.925|       1|     0|    1|      1.0|  (2,[0],[1.0])|(4,[1],[1.0])|\n",
      "|     1|35.0|    1|    0|   53.1|       1|     1|    0|      1.0|  (2,[0],[1.0])|(4,[2],[1.0])|\n",
      "|     3|35.0|    0|    0|   8.05|       0|     0|    1|      0.0|  (2,[0],[1.0])|(4,[0],[1.0])|\n",
      "+------+----+-----+-----+-------+--------+------+-----+---------+---------------+-------------+\n",
      "only showing top 5 rows\n",
      "\n"
     ]
    }
   ],
   "source": [
    "# drop useless features\n",
    "data = data.drop('Sex', 'Embarked', 'Embarked_index', 'Title', 'Title_index')\n",
    "data.show(5)"
   ]
  },
  {
   "cell_type": "code",
   "execution_count": 28,
   "metadata": {},
   "outputs": [
    {
     "data": {
      "text/plain": [
       "['Pclass',\n",
       " 'Age',\n",
       " 'SibSp',\n",
       " 'Parch',\n",
       " 'Fare',\n",
       " 'Survived',\n",
       " 'Family',\n",
       " 'Alone',\n",
       " 'Sex_index',\n",
       " 'Embarked_onehot',\n",
       " 'Title_onehot']"
      ]
     },
     "execution_count": 28,
     "metadata": {},
     "output_type": "execute_result"
    }
   ],
   "source": [
    "data.columns"
   ]
  },
  {
   "cell_type": "markdown",
   "metadata": {},
   "source": [
    "### VectorAssembler All Features"
   ]
  },
  {
   "cell_type": "code",
   "execution_count": 29,
   "metadata": {},
   "outputs": [
    {
     "name": "stdout",
     "output_type": "stream",
     "text": [
      "+------+----+-----+-----+-------+--------+------+-----+---------+---------------+-------------+--------------------+\n",
      "|Pclass| Age|SibSp|Parch|   Fare|Survived|Family|Alone|Sex_index|Embarked_onehot| Title_onehot|            features|\n",
      "+------+----+-----+-----+-------+--------+------+-----+---------+---------------+-------------+--------------------+\n",
      "|     3|22.0|    1|    0|   7.25|       0|     1|    0|      0.0|  (2,[0],[1.0])|(4,[0],[1.0])|(14,[0,1,2,4,5,8,...|\n",
      "|     1|38.0|    1|    0|71.2833|       1|     1|    0|      1.0|  (2,[1],[1.0])|(4,[2],[1.0])|(14,[0,1,2,4,5,7,...|\n",
      "|     3|26.0|    0|    0|  7.925|       1|     0|    1|      1.0|  (2,[0],[1.0])|(4,[1],[1.0])|(14,[0,1,4,6,7,8,...|\n",
      "|     1|35.0|    1|    0|   53.1|       1|     1|    0|      1.0|  (2,[0],[1.0])|(4,[2],[1.0])|(14,[0,1,2,4,5,7,...|\n",
      "|     3|35.0|    0|    0|   8.05|       0|     0|    1|      0.0|  (2,[0],[1.0])|(4,[0],[1.0])|(14,[0,1,4,6,8,10...|\n",
      "+------+----+-----+-----+-------+--------+------+-----+---------+---------------+-------------+--------------------+\n",
      "only showing top 5 rows\n",
      "\n"
     ]
    }
   ],
   "source": [
    "input_cols = ['Pclass', 'Age', 'SibSp', 'Parch', 'Fare', 'Family', 'Alone', \n",
    "              'Sex_index', 'Embarked_onehot', 'Title_onehot']\n",
    "assembler = VectorAssembler(inputCols=input_cols, outputCol='features')\n",
    "feature_vector = assembler.transform(data)\n",
    "\n",
    "feature_vector.show(5)"
   ]
  },
  {
   "cell_type": "code",
   "execution_count": 30,
   "metadata": {},
   "outputs": [],
   "source": [
    "# split into training and test data\n",
    "(train, test) = feature_vector.randomSplit([0.8, 0.2], seed=42)"
   ]
  },
  {
   "cell_type": "markdown",
   "metadata": {},
   "source": [
    "# Logistic Regression"
   ]
  },
  {
   "cell_type": "code",
   "execution_count": 31,
   "metadata": {},
   "outputs": [
    {
     "name": "stdout",
     "output_type": "stream",
     "text": [
      "+--------+--------------------+--------------------+----------+\n",
      "|Survived|       rawPrediction|         probability|prediction|\n",
      "+--------+--------------------+--------------------+----------+\n",
      "|       0|[-2.7500620756740...|[0.06008314446878...|       1.0|\n",
      "|       1|[-3.7980920648544...|[0.02192214275334...|       1.0|\n",
      "|       1|[-2.9476068952489...|[0.04984973831912...|       1.0|\n",
      "|       0|[-0.4750484670391...|[0.38342203734162...|       1.0|\n",
      "|       1|[-2.8961950335324...|[0.05234197698824...|       1.0|\n",
      "+--------+--------------------+--------------------+----------+\n",
      "only showing top 5 rows\n",
      "\n"
     ]
    }
   ],
   "source": [
    "# fit logistic regression model\n",
    "lr = LogisticRegression(featuresCol='features', labelCol='Survived', predictionCol='prediction', \n",
    "                        maxIter=100, threshold=0.5, probabilityCol='probability', standardization=True)\n",
    "\n",
    "lr_model = lr.fit(train)\n",
    "lr_train_pred = lr_model.transform(train)\n",
    "lr_test_pred = lr_model.transform(test)\n",
    "\n",
    "lr_test_pred.select('Survived', 'rawPrediction', 'probability', 'prediction').show(5)"
   ]
  },
  {
   "cell_type": "code",
   "execution_count": 32,
   "metadata": {},
   "outputs": [
    {
     "name": "stdout",
     "output_type": "stream",
     "text": [
      "Train AUC: 0.8791\t Test AUC: 0.8699\n"
     ]
    }
   ],
   "source": [
    "# model evaluation\n",
    "evaluator = BinaryClassificationEvaluator(labelCol='Survived', metricName='areaUnderROC')\n",
    "\n",
    "lr_train_auc = evaluator.evaluate(lr_train_pred)\n",
    "lr_test_auc = evaluator.evaluate(lr_test_pred)\n",
    "\n",
    "print('Train AUC: {:6.4f}\\t Test AUC: {:6.4f}'.format(lr_train_auc, lr_test_auc))"
   ]
  },
  {
   "cell_type": "code",
   "execution_count": 33,
   "metadata": {},
   "outputs": [
    {
     "data": {
      "image/png": "[encoded data removed]",
      "text/plain": [
       "<Figure size 576x360 with 1 Axes>"
      ]
     },
     "metadata": {},
     "output_type": "display_data"
    }
   ],
   "source": [
    "# visualize training ROC curve\n",
    "lr_roc = lr_model.summary.roc.toPandas()\n",
    "\n",
    "fig, ax = plt.subplots(figsize=(8, 5))\n",
    "ax.plot(lr_roc['FPR'], lr_roc['TPR'])\n",
    "ax.set_xlabel('FPR', fontsize=12)\n",
    "ax.set_ylabel('TPR', fontsize=12)\n",
    "ax.grid(True)\n",
    "plt.tight_layout()\n",
    "plt.show()"
   ]
  },
  {
   "cell_type": "markdown",
   "metadata": {},
   "source": [
    "# Decision Tree"
   ]
  },
  {
   "cell_type": "code",
   "execution_count": 34,
   "metadata": {},
   "outputs": [
    {
     "name": "stdout",
     "output_type": "stream",
     "text": [
      "+--------+-------------+-----------+----------+\n",
      "|Survived|rawPrediction|probability|prediction|\n",
      "+--------+-------------+-----------+----------+\n",
      "|       0|    [0.0,9.0]|  [0.0,1.0]|       1.0|\n",
      "|       1|   [0.0,16.0]|  [0.0,1.0]|       1.0|\n",
      "|       1|   [0.0,16.0]|  [0.0,1.0]|       1.0|\n",
      "|       0|    [6.0,0.0]|  [1.0,0.0]|       0.0|\n",
      "|       1|   [0.0,25.0]|  [0.0,1.0]|       1.0|\n",
      "+--------+-------------+-----------+----------+\n",
      "only showing top 5 rows\n",
      "\n"
     ]
    }
   ],
   "source": [
    "# fit logistic regression model\n",
    "dt = DecisionTreeClassifier(featuresCol='features', labelCol='Survived', maxDepth=15, \n",
    "                            checkpointInterval=10, impurity='gini', seed=42)\n",
    "\n",
    "dt_model = dt.fit(train)\n",
    "dt_train_pred = dt_model.transform(train)\n",
    "dt_test_pred = dt_model.transform(test)\n",
    "\n",
    "dt_test_pred.select('Survived', 'rawPrediction', 'probability', 'prediction').show(5)"
   ]
  },
  {
   "cell_type": "code",
   "execution_count": 35,
   "metadata": {},
   "outputs": [
    {
     "name": "stdout",
     "output_type": "stream",
     "text": [
      "Train AUC: 0.9042\t Test AUC: 0.7106\n"
     ]
    }
   ],
   "source": [
    "# model evaluation\n",
    "evaluator = BinaryClassificationEvaluator(labelCol='Survived', metricName='areaUnderROC')\n",
    "\n",
    "dt_train_auc = evaluator.evaluate(dt_train_pred)\n",
    "dt_test_auc = evaluator.evaluate(dt_test_pred)\n",
    "\n",
    "print('Train AUC: {:6.4f}\\t Test AUC: {:6.4f}'.format(dt_train_auc, dt_test_auc))"
   ]
  },
  {
   "cell_type": "markdown",
   "metadata": {},
   "source": [
    "# Gradient-Boosted Trees (GBTs)"
   ]
  },
  {
   "cell_type": "code",
   "execution_count": 36,
   "metadata": {},
   "outputs": [
    {
     "name": "stdout",
     "output_type": "stream",
     "text": [
      "+--------+--------------------+--------------------+----------+\n",
      "|Survived|       rawPrediction|         probability|prediction|\n",
      "+--------+--------------------+--------------------+----------+\n",
      "|       0|[-1.8863656631742...|[0.02247256060051...|       1.0|\n",
      "|       1|[-1.6713612516370...|[0.03413428518068...|       1.0|\n",
      "|       1|[-1.0514697578142...|[0.10881144396460...|       1.0|\n",
      "|       0|[0.07988673448481...|[0.53985861219819...|       0.0|\n",
      "|       1|[-1.2919002174005...|[0.07018830177856...|       1.0|\n",
      "+--------+--------------------+--------------------+----------+\n",
      "only showing top 5 rows\n",
      "\n"
     ]
    }
   ],
   "source": [
    "# fit logistic regression model\n",
    "gbt = GBTClassifier(featuresCol='features', labelCol='Survived', maxDepth=3, maxBins=32, \n",
    "                    minInstancesPerNode=1, minInfoGain=0.0, checkpointInterval=10, lossType='logistic', \n",
    "                    maxIter=50, stepSize=0.1, seed=42, subsamplingRate=1.0, featureSubsetStrategy='auto')\n",
    "\n",
    "gbt_model = gbt.fit(train)\n",
    "gbt_train_pred = gbt_model.transform(train)\n",
    "gbt_test_pred = gbt_model.transform(test)\n",
    "\n",
    "gbt_test_pred.select('Survived', 'rawPrediction', 'probability', 'prediction').show(5)"
   ]
  },
  {
   "cell_type": "code",
   "execution_count": 37,
   "metadata": {},
   "outputs": [
    {
     "name": "stdout",
     "output_type": "stream",
     "text": [
      "Train AUC: 0.9337\t Test AUC: 0.8910\n"
     ]
    }
   ],
   "source": [
    "# model evaluation\n",
    "evaluator = BinaryClassificationEvaluator(labelCol='Survived', metricName='areaUnderROC')\n",
    "\n",
    "gbt_train_auc = evaluator.evaluate(gbt_train_pred)\n",
    "gbt_test_auc = evaluator.evaluate(gbt_test_pred)\n",
    "\n",
    "print('Train AUC: {:6.4f}\\t Test AUC: {:6.4f}'.format(gbt_train_auc, gbt_test_auc))"
   ]
  },
  {
   "cell_type": "markdown",
   "metadata": {},
   "source": [
    "# Random Forest"
   ]
  },
  {
   "cell_type": "code",
   "execution_count": 38,
   "metadata": {},
   "outputs": [
    {
     "name": "stdout",
     "output_type": "stream",
     "text": [
      "+--------+--------------------+--------------------+----------+\n",
      "|Survived|       rawPrediction|         probability|prediction|\n",
      "+--------+--------------------+--------------------+----------+\n",
      "|       0|[1.65525316242178...|[0.03310506324843...|       1.0|\n",
      "|       1|[4.22423135225733...|[0.08448462704514...|       1.0|\n",
      "|       1|[13.2036317151670...|[0.26407263430334...|       1.0|\n",
      "|       0|[29.4119063888178...|[0.58823812777635...|       0.0|\n",
      "|       1|[2.53900964614737...|[0.05078019292294...|       1.0|\n",
      "+--------+--------------------+--------------------+----------+\n",
      "only showing top 5 rows\n",
      "\n"
     ]
    }
   ],
   "source": [
    "# fit logistic regression model\n",
    "rf = RandomForestClassifier(featuresCol='features', labelCol='Survived', maxDepth=7, impurity='gini', \n",
    "                            numTrees=50, featureSubsetStrategy='auto', seed=42, subsamplingRate=1.0)\n",
    "\n",
    "rf_model = rf.fit(train)\n",
    "rf_train_pred = rf_model.transform(train)\n",
    "rf_test_pred = rf_model.transform(test)\n",
    "\n",
    "rf_test_pred.select('Survived', 'rawPrediction', 'probability', 'prediction').show(5)"
   ]
  },
  {
   "cell_type": "code",
   "execution_count": 39,
   "metadata": {},
   "outputs": [
    {
     "name": "stdout",
     "output_type": "stream",
     "text": [
      "Train AUC: 0.9349\t Test AUC: 0.8938\n"
     ]
    }
   ],
   "source": [
    "# model evaluation\n",
    "evaluator = BinaryClassificationEvaluator(labelCol='Survived', metricName='areaUnderROC')\n",
    "\n",
    "rf_train_auc = evaluator.evaluate(rf_train_pred)\n",
    "rf_test_auc = evaluator.evaluate(rf_test_pred)\n",
    "\n",
    "print('Train AUC: {:6.4f}\\t Test AUC: {:6.4f}'.format(rf_train_auc, rf_test_auc))"
   ]
  },
  {
   "cell_type": "code",
   "execution_count": 40,
   "metadata": {},
   "outputs": [],
   "source": [
    "# stop spark server\n",
    "spark.stop()"
   ]
  }
 ],
 "metadata": {
  "kernel_args": {
   "version": "latest"
  },
  "kernelspec": {
   "display_name": "PySpark 3 (Beta)",
   "language": "",
   "name": "pysparkkernel3"
  },
  "language_info": {
   "codemirror_mode": {
    "name": "python",
    "version": 3
   },
   "mimetype": "text/x-python",
   "name": "pyspark3",
   "pygments_lexer": "ipython2",
   "version": "1.0"
  }
 },
 "nbformat": 4,
 "nbformat_minor": 2
}
